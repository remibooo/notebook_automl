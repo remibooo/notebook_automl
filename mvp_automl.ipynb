{
 "cells": [
  {
   "cell_type": "code",
   "execution_count": 1,
   "id": "e8587825",
   "metadata": {},
   "outputs": [
    {
     "data": {
      "text/html": [
       "<script>\n",
       "    // AUTORUN ALL CELLS ON NOTEBOOK-LOAD!\n",
       "    require(\n",
       "        ['base/js/namespace', 'jquery'], \n",
       "        function(jupyter, $) {\n",
       "            $(jupyter.events).on(\"kernel_ready.Kernel\", function () {\n",
       "                console.log(\"Auto-running all cells-below...\");\n",
       "                jupyter.actions.call('jupyter-notebook:run-all-cells-below');\n",
       "                jupyter.actions.call('jupyter-notebook:save-notebook');\n",
       "            });\n",
       "        }\n",
       "    );\n",
       "</script>\n"
      ],
      "text/plain": [
       "<IPython.core.display.HTML object>"
      ]
     },
     "metadata": {},
     "output_type": "display_data"
    }
   ],
   "source": [
    "%%html\n",
    "<script>\n",
    "    // AUTORUN ALL CELLS ON NOTEBOOK-LOAD!\n",
    "    require(\n",
    "        ['base/js/namespace', 'jquery'], \n",
    "        function(jupyter, $) {\n",
    "            $(jupyter.events).on(\"kernel_ready.Kernel\", function () {\n",
    "                console.log(\"Auto-running all cells-below...\");\n",
    "                jupyter.actions.call('jupyter-notebook:run-all-cells-below');\n",
    "                jupyter.actions.call('jupyter-notebook:save-notebook');\n",
    "            });\n",
    "        }\n",
    "    );\n",
    "</script>"
   ]
  },
  {
   "cell_type": "code",
   "execution_count": null,
   "id": "8d0cc39b",
   "metadata": {},
   "outputs": [],
   "source": [
    "%%html\n",
    "<script>\n",
    "    code_show=true; \n",
    "    function code_toggle() {\n",
    "        if (code_show){\n",
    "            $('div.input').hide();\n",
    "        } else {\n",
    "            $('div.input').show();\n",
    "        }\n",
    "        code_show = !code_show\n",
    "    } \n",
    "    $( document ).ready(code_toggle);\n",
    "</script>"
   ]
  },
  {
   "cell_type": "markdown",
   "id": "316d5efa",
   "metadata": {},
   "source": [
    "<img src=\"./qarnot_ligne.png\" \n",
    "     width=\"30%\" \n",
    "     align=right\n",
    "     alt=\"Dask logo\">\n",
    "     \n",
    "\n",
    "# MVP AutoML\n",
    "\n",
    "## Add your Qarnot token"
   ]
  },
  {
   "cell_type": "code",
   "execution_count": null,
   "id": "16d8fbfa",
   "metadata": {},
   "outputs": [],
   "source": [
    "import os\n",
    "import io\n",
    "import pandas as pd\n",
    "import ipywidgets as widgets\n",
    "from tkinter import Tk, filedialog\n",
    "from IPython.display import clear_output, display, HTML"
   ]
  },
  {
   "cell_type": "code",
   "execution_count": null,
   "id": "1d9dad3a",
   "metadata": {},
   "outputs": [],
   "source": [
    "token = widgets.Password(\n",
    "    placeholder='Enter token',\n",
    "    description='Qarnot token:',\n",
    "    disabled=False\n",
    ")\n",
    "display(token)"
   ]
  },
  {
   "cell_type": "markdown",
   "id": "f9bc0778",
   "metadata": {},
   "source": [
    "# Upload your data to binder "
   ]
  },
  {
   "cell_type": "code",
   "execution_count": null,
   "id": "be527107",
   "metadata": {},
   "outputs": [],
   "source": [
    "file = widgets.FileUpload(\n",
    "    accept='.csv',  # Accepted file extension e.g. '.txt', '.pdf', 'image/*', 'image/*,.pdf'\n",
    "    multiple=False  # True to accept multiple files upload else False\n",
    ")\n",
    "display(file)"
   ]
  },
  {
   "cell_type": "markdown",
   "id": "5b4ef49a",
   "metadata": {},
   "source": [
    "## Specify Autosklearn training parameters\n",
    "\n",
    "* Only the first two field, *Target Column* and *Positive Label*, are required so make sure to upload your data file and re-run the cell below. The rest are optional and have default values.\n",
    "\n",
    "* Multiple values can be selected, for the lists of estimators and preprocessors to include/exclude, with <kbd>shift</kbd> and/or <kbd>ctrl</kbd> (or <kbd>command</kbd>) pressed and mouse clicks or arrow keys.\n",
    "\n",
    "    > Note that the include and exclude parameters are incompatible with each other. Meaning that only one should be set. For example, you cannot include the `Adaboost` estimator and exclude the `Decision Tree` and `Extra Trees` as they are already excluded by setting the first include parameter.\n",
    "\n",
    "* You can check out the [Auto-sklearn documentation](https://automl.github.io/auto-sklearn/master/manual.html) for more info."
   ]
  },
  {
   "cell_type": "code",
   "execution_count": null,
   "id": "93c7a8c8",
   "metadata": {},
   "outputs": [],
   "source": [
    "estimators = [\n",
    "    ('Default', 'None'),('Adaboost', 'adaboost'), ('Bernoulli Naive Bayes', 'bernoulli_nb'),\n",
    "    ('Decision Tree', 'decision_tree'), ('Extra Trees', 'extra_trees'), ('Gaussian Naive Bayes', 'gaussian_nb'),\n",
    "    ('Gradient Boosting', 'gradient_boosting'), ('K Nearest Neighbors', 'k_nearest_neighbors'), ('LDA', 'lda'),\n",
    "    ('Linear SVC', 'liblinear_svc'), ('SVM SVC', 'libsvm_svc'), ('MLP', 'mlp'), \n",
    "    ('Multinominal Naive Bayes', 'multinomial_nb'), ('Passive Aggressive', 'passive_aggressive'), \n",
    "    ('QDA', 'qda'), ('Random Forest', 'random_forest'), ('SGD', 'sgd')\n",
    "]\n",
    "\n",
    "preprocessors = [\n",
    "    ('Default', 'None'), ('Balancing', 'balancing'),('Extra Trees', 'extra_trees_preproc_for_classification'), \n",
    "    ('Fast ICA', 'fast_ica'), ('Feature Agglomeration','feature_agglomeration'), ('Kernel PCA', 'kernel_pca'),\n",
    "    ('Kitchen Sinks', 'kitchen_sinks'), ('Linear SVM preprocessor', 'liblinear_svc_preprocessor'),\n",
    "    ('No Preporcessing', 'no_preprocessor'), ('Nystroem Sampler', 'nystroem_sampler'), \n",
    "    ('One Hot Encoding', 'one_hot_encoding'), ('PCA', 'pca'), ('Polynomial', 'polynomial'),\n",
    "    ('Random Trees Embedding', 'random_trees_embedding'), ('Select Percentile', 'select_percentile'), \n",
    "    ('Select Rates', 'select_rates_classification')\n",
    "]"
   ]
  },
  {
   "cell_type": "code",
   "execution_count": null,
   "id": "06e12915",
   "metadata": {
    "scrolled": false
   },
   "outputs": [],
   "source": [
    "from ipywidgets import Layout, Button, Box, Label, BoundedIntText, IntSlider, Dropdown, SelectMultiple\n",
    "\n",
    "form_item_layout = Layout(\n",
    "    display='flex',\n",
    "    flex_flow='row',\n",
    "    justify_content='space-between'\n",
    ")\n",
    "\n",
    "form_items = [\n",
    "    Box([Label(value='Number of nodes in cluster:'),\n",
    "        IntSlider(value=3,min=2,max=20,step=1)], layout=form_item_layout),\n",
    "    Box([Label(value='Total training time (min):'), \n",
    "         BoundedIntText(value=15, min=0)], layout=form_item_layout),\n",
    "    Box([Label(value='Per run training time (min):'), \n",
    "         BoundedIntText(value=5, min=0)], layout=form_item_layout),\n",
    "    Box([Label(value='Number of cross validation folds:'),\n",
    "        IntSlider(value=3,min=2,max=10,step=1)], layout=form_item_layout),\n",
    "    Box([Label(value='Maximum ensemble size:'),\n",
    "        BoundedIntText(value=50, min=1)], layout=form_item_layout),\n",
    "    Box([Label(value='Ensemble nbest:'),\n",
    "        BoundedIntText(value=50, min=0)], layout=form_item_layout),\n",
    "    Box([Label(value='Include Estimators and Preprocessors:'),\n",
    "        SelectMultiple(options=estimators,value=['None']),\n",
    "        SelectMultiple(options=preprocessors,value=['None'])], layout=form_item_layout),\n",
    "    Box([Label(value='Exclude Estimators and Preprocessors:'),\n",
    "        SelectMultiple(options=estimators,value=['None']),\n",
    "        SelectMultiple(options=preprocessors,value=['None'])], layout=form_item_layout)\n",
    "]\n",
    "\n",
    "if len(file.value)==0:\n",
    "    target_col = Box([widgets.HTML(value = f\"<b><font color=#f39c12>{'Import file and re-run cell'}</b>\")],\n",
    "                    layout=form_item_layout)\n",
    "else:\n",
    "    # create input folder\n",
    "    ! mkdir -p input_binder/\n",
    "    \n",
    "    # write uploaded data file to input\n",
    "    data = pd.read_csv(io.BytesIO(file.value[list(file.value)[0]]['content']))\n",
    "    data.to_csv('input_binder/data.csv')\n",
    "    \n",
    "    target_col = Box([Label(value='Target column for classification:'),\n",
    "                      Dropdown(options=data.columns)], layout=form_item_layout)\n",
    "    \n",
    "    labels = data['class'].unique()\n",
    "    if len(labels) == 2:\n",
    "        label_list = Box([Label(value='Positive Label:'),\n",
    "                          Dropdown(options=labels)], layout=form_item_layout)\n",
    "        form_items.insert(0, label_list)\n",
    "\n",
    "form_items.insert(0, target_col)\n",
    "\n",
    "form = Box(form_items, layout=Layout(\n",
    "    display='flex',\n",
    "    flex_flow='column',\n",
    "    align_items='stretch',\n",
    "    width='100%'\n",
    "))\n",
    "form"
   ]
  },
  {
   "cell_type": "markdown",
   "id": "8f128ab6",
   "metadata": {},
   "source": [
    "## Launch the Qarnot computation"
   ]
  },
  {
   "cell_type": "code",
   "execution_count": null,
   "id": "574442ff",
   "metadata": {
    "scrolled": true
   },
   "outputs": [],
   "source": [
    "from run_qarnot import submit_task\n",
    "from ipywidgets import Output\n",
    "\n",
    "button = Button(description=\"Start Training on Qarnot!\", layout=Layout(width='auto'))\n",
    "output = Output()\n",
    "display(button, output)\n",
    "\n",
    "def on_button_clicked(b):\n",
    "    \n",
    "    # Dictionary for data storage\n",
    "    param_dict = {\n",
    "        'token':'', 'target':'', 'pos_label':'', 'nodes':'', 'total_time':'', 'per_run_time':'', 'cv':'', \n",
    "        'ensemble_size':'', 'ensemble_nbest':'', 'incl_estim':(), 'incl_preproc':(), 'excl_estim':(), \n",
    "        'excl_preproc':()\n",
    "    }\n",
    "    param_list = list(param_dict)\n",
    "    \n",
    "    # Retrieve data from form in dictionary\n",
    "    try:\n",
    "        param_dict['token'] = token.value\n",
    "        for _, (key, elem) in enumerate(zip(param_list[1:-4], form.children[:-2])):\n",
    "            param_dict[key] = str(elem.children[1].value)\n",
    "        for _, (key, elem) in enumerate(zip(param_list[-4:-2], form.children[-2].children[1:])):\n",
    "            param_dict[key] = elem.value\n",
    "        for _, (key, elem) in enumerate(zip(param_list[-2:], form.children[-1].children[1:])):\n",
    "            param_dict[key] = elem.value\n",
    "    except IndexError:\n",
    "        print(\"Some fields were not properly filled\")\n",
    "    \n",
    "    # Launch computation\n",
    "    output.clear_output()\n",
    "    with output:\n",
    "        ! mkdir -p logs/ output_binder\n",
    "        submit_task(param_dict)\n",
    "        \n",
    "button.on_click(on_button_clicked)"
   ]
  },
  {
   "cell_type": "markdown",
   "id": "2eea6848",
   "metadata": {},
   "source": [
    "## Display outputs"
   ]
  },
  {
   "cell_type": "code",
   "execution_count": null,
   "id": "47209f9c",
   "metadata": {},
   "outputs": [],
   "source": [
    "from ipywidgets import HBox, VBox, Image\n",
    "\n",
    "output_button = Button(description=\"Display outputs\", layout=Layout(width='auto'))\n",
    "image_output = Output()\n",
    "display(output_button, image_output)\n",
    "\n",
    "def on_output_button_clicked(b):\n",
    "    \n",
    "    image_output.clear_output()\n",
    "    with image_output:\n",
    "        try:\n",
    "            vb = VBox()\n",
    "            title = widgets.HTML(value='<{size}>AutoML results</{size}>'.format(size='h3'))\n",
    "            vb.layout.align_items = 'center'\n",
    "            # Read images from file\n",
    "            img1 = open('output_binder/confusion_matrix.png', 'rb').read()\n",
    "            img2 = open('output_binder/acc_over_time.png', 'rb').read()\n",
    "            # Set image variable, image format and dimension.\n",
    "            wi1 = Image(value=img1, format='png', width=500, height=500)\n",
    "            wi2 = Image(value=img2, format='png', width=450, height=500)\n",
    "            # Side by side display\n",
    "            images = HBox([wi1, wi2])\n",
    "            vb.children = [title, images]\n",
    "            display(vb)\n",
    "\n",
    "        except FileNotFoundError:\n",
    "            print(\"Result files not available\")\n",
    "        \n",
    "output_button.on_click(on_output_button_clicked)"
   ]
  }
 ],
 "metadata": {
  "interpreter": {
   "hash": "0fbb9f8e195abe53174c0f9ec17e4383ade7781b5f2b704a51557b556b0f1aa0"
  },
  "kernelspec": {
   "display_name": "Python 3",
   "language": "python",
   "name": "python3"
  },
  "language_info": {
   "codemirror_mode": {
    "name": "ipython",
    "version": 3
   },
   "file_extension": ".py",
   "mimetype": "text/x-python",
   "name": "python",
   "nbconvert_exporter": "python",
   "pygments_lexer": "ipython3",
   "version": "3.8.5"
  }
 },
 "nbformat": 4,
 "nbformat_minor": 5
}
